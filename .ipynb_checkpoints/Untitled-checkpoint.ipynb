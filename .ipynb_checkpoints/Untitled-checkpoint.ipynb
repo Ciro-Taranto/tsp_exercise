{
 "cells": [
  {
   "cell_type": "code",
   "execution_count": 57,
   "metadata": {},
   "outputs": [],
   "source": [
    "import numpy as np\n",
    "import pylab as plt"
   ]
  },
  {
   "cell_type": "code",
   "execution_count": 2,
   "metadata": {},
   "outputs": [],
   "source": [
    "%matplotlib inline\n",
    "%load_ext autoreload \n",
    "%autoreload 2\n",
    "from objects.graph import Graph\n",
    "from algorithms.simulated_anneling import SimAnneal\n",
    "from algorithms.search import TravelingSalesman\n",
    "from algorithms.genetic import Genetic\n",
    "from problems.map_generator import garbage_collection_points_layout,random_graph_layout\n",
    "from algorithms.constraint_satisfaction import ConstraintSatisfaction"
   ]
  },
  {
   "cell_type": "code",
   "execution_count": 82,
   "metadata": {},
   "outputs": [
    {
     "name": "stdout",
     "output_type": "stream",
     "text": [
      "graph_edges = 105.0\n",
      "graph_edges = 105.0\n"
     ]
    }
   ],
   "source": [
    "locations,loads,edges = random_graph_layout(20,1,number_of_arcs=0.5,traffic=1.0)"
   ]
  },
  {
   "cell_type": "code",
   "execution_count": 83,
   "metadata": {},
   "outputs": [
    {
     "name": "stdout",
     "output_type": "stream",
     "text": [
      "(('l7',), ('l7',))\n",
      "Already checked 0 nodes\n",
      "20\n",
      "3.7487126909433823\n",
      "Starting Temperature = 0.08925506407008053\n"
     ]
    }
   ],
   "source": [
    "anneal = SimAnneal(locations,edges,alpha=0.9995,stopping_iter=int(1e6),get_lucky=True)"
   ]
  },
  {
   "cell_type": "code",
   "execution_count": null,
   "metadata": {},
   "outputs": [
    {
     "name": "stdout",
     "output_type": "stream",
     "text": [
      "Performed 10000.0 iterations\n",
      "17008.96657132765 iterations per second\n",
      "Performed 20000.0 iterations\n",
      "17510.704385291072 iterations per second\n",
      "2.7329359098584702\n",
      "Performed 30000.0 iterations\n",
      "22357.613804212884 iterations per second\n",
      "Performed 40000.0 iterations\n",
      "16947.189532131466 iterations per second\n",
      "2.7329359098584702\n",
      "Performed 50000.0 iterations\n",
      "33476.68574502575 iterations per second\n",
      "Performed 60000.0 iterations\n",
      "14092.612733570479 iterations per second\n",
      "2.7329359098584702\n",
      "Performed 70000.0 iterations\n",
      "95909.48483829881 iterations per second\n",
      "Performed 80000.0 iterations\n",
      "14176.871539272226 iterations per second\n",
      "Performed 90000.0 iterations\n",
      "13556.18508636836 iterations per second\n",
      "2.7329359098584707\n",
      "Performed 100000.0 iterations\n",
      "14231.371622923809 iterations per second\n",
      "Performed 110000.0 iterations\n",
      "12371.468753244546 iterations per second\n",
      "2.8704325470830807\n",
      "Performed 120000.0 iterations\n",
      "23097.40517203401 iterations per second\n",
      "Performed 130000.0 iterations\n",
      "14887.318549553536 iterations per second\n",
      "2.8704325470830807\n",
      "Performed 140000.0 iterations\n",
      "41989.017974682276 iterations per second\n",
      "Performed 150000.0 iterations\n",
      "11981.969499899014 iterations per second\n",
      "2.846188720500536\n",
      "Performed 160000.0 iterations\n",
      "257224.57990923585 iterations per second\n",
      "Performed 170000.0 iterations\n",
      "14054.127589764485 iterations per second\n",
      "Performed 180000.0 iterations\n",
      "14835.970765988544 iterations per second\n",
      "2.9979251000711535\n",
      "Performed 190000.0 iterations\n",
      "17485.78184628802 iterations per second\n",
      "Performed 200000.0 iterations\n",
      "15939.56628824658 iterations per second\n",
      "3.057502458238817\n",
      "Performed 210000.0 iterations\n",
      "19376.414782292148 iterations per second\n",
      "Performed 220000.0 iterations\n",
      "13045.085012395664 iterations per second\n",
      "2.7329359098584702\n",
      "Performed 230000.0 iterations\n",
      "60027.27794450813 iterations per second\n",
      "Performed 240000.0 iterations\n",
      "12775.706351843768 iterations per second\n",
      "Performed 250000.0 iterations\n",
      "13357.120064608873 iterations per second\n",
      "2.7329359098584702\n",
      "Performed 260000.0 iterations\n",
      "10279.257427720173 iterations per second\n",
      "Performed 270000.0 iterations\n",
      "13833.3880274339 iterations per second\n",
      "2.870432547083081\n",
      "Performed 280000.0 iterations\n",
      "16828.867159084664 iterations per second\n",
      "Performed 290000.0 iterations\n",
      "12880.360746797955 iterations per second\n",
      "2.8704325470830807\n",
      "Performed 300000.0 iterations\n",
      "27934.501870823282 iterations per second\n",
      "Performed 310000.0 iterations\n",
      "11483.991616253297 iterations per second\n",
      "2.8461887205005363\n",
      "Performed 320000.0 iterations\n",
      "79050.25942965056 iterations per second\n",
      "Performed 330000.0 iterations\n",
      "10955.91100913501 iterations per second\n",
      "Performed 340000.0 iterations\n",
      "13490.320897771428 iterations per second\n",
      "2.8704325470830807\n",
      "Performed 350000.0 iterations\n",
      "12047.813196023877 iterations per second\n",
      "Performed 360000.0 iterations\n",
      "11283.880125130614 iterations per second\n"
     ]
    }
   ],
   "source": [
    "sol = anneal.batch_anneal(times=20)"
   ]
  },
  {
   "cell_type": "code",
   "execution_count": null,
   "metadata": {},
   "outputs": [],
   "source": [
    "plt.plot(anneal.best_list)"
   ]
  },
  {
   "cell_type": "code",
   "execution_count": null,
   "metadata": {},
   "outputs": [],
   "source": [
    "plt.plot(anneal.fitness_list,'-o')"
   ]
  },
  {
   "cell_type": "code",
   "execution_count": null,
   "metadata": {},
   "outputs": [],
   "source": [
    "tsp = TravelingSalesman(locations,edges)"
   ]
  },
  {
   "cell_type": "code",
   "execution_count": null,
   "metadata": {},
   "outputs": [],
   "source": [
    "%%time\n",
    "tsp_sol = tsp.solve()"
   ]
  },
  {
   "cell_type": "code",
   "execution_count": null,
   "metadata": {},
   "outputs": [],
   "source": []
  }
 ],
 "metadata": {
  "kernelspec": {
   "display_name": "Python 3",
   "language": "python",
   "name": "python3"
  },
  "language_info": {
   "codemirror_mode": {
    "name": "ipython",
    "version": 3
   },
   "file_extension": ".py",
   "mimetype": "text/x-python",
   "name": "python",
   "nbconvert_exporter": "python",
   "pygments_lexer": "ipython3",
   "version": "3.6.8"
  }
 },
 "nbformat": 4,
 "nbformat_minor": 2
}
