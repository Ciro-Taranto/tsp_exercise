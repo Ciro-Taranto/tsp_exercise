{
 "cells": [
  {
   "cell_type": "code",
   "execution_count": 80,
   "metadata": {},
   "outputs": [],
   "source": [
    "import numpy as np\n",
    "import pylab as plt"
   ]
  },
  {
   "cell_type": "code",
   "execution_count": 95,
   "metadata": {},
   "outputs": [
    {
     "name": "stdout",
     "output_type": "stream",
     "text": [
      "The autoreload extension is already loaded. To reload it, use:\n",
      "  %reload_ext autoreload\n"
     ]
    }
   ],
   "source": [
    "%matplotlib inline\n",
    "%load_ext autoreload \n",
    "%autoreload 2\n",
    "from objects.graph import Graph\n",
    "from algorithms.simulated_anneling import SimAnneal\n",
    "from algorithms.search import TravelingSalesman\n",
    "from algorithms.genetic import Genetic\n",
    "from problems.map_generator import garbage_collection_points_layout,random_graph_layout\n",
    "from algorithms.constraint_satisfaction import ConstraintSatisfaction"
   ]
  },
  {
   "cell_type": "code",
   "execution_count": 82,
   "metadata": {},
   "outputs": [
    {
     "name": "stdout",
     "output_type": "stream",
     "text": [
      "graph_edges = 105.0\n",
      "graph_edges = 105.0\n"
     ]
    }
   ],
   "source": [
    "locations,loads,edges = random_graph_layout(20,1,number_of_arcs=0.5,traffic=1.0)"
   ]
  },
  {
   "cell_type": "code",
   "execution_count": 83,
   "metadata": {},
   "outputs": [
    {
     "name": "stdout",
     "output_type": "stream",
     "text": [
      "(('l5',), ('l5',))\n",
      "Already checked 0 nodes\n",
      "20\n",
      "The problem instance has no solution. Sad but true\n"
     ]
    }
   ],
   "source": [
    "anneal = SimAnneal(locations,edges,alpha=0.9995,stopping_iter=int(1e6),get_lucky=False)"
   ]
  },
  {
   "cell_type": "code",
   "execution_count": 13,
   "metadata": {},
   "outputs": [
    {
     "name": "stdout",
     "output_type": "stream",
     "text": [
      "Performed 10000.0 iterations\n",
      "16795.44241410779 iterations per second\n",
      "Performed 20000.0 iterations\n",
      "17310.461298198752 iterations per second\n",
      "3.907168188976036\n",
      "Performed 30000.0 iterations\n",
      "30369.057954067415 iterations per second\n",
      "Performed 40000.0 iterations\n",
      "17032.084106570725 iterations per second\n",
      "3.7437467430416596\n",
      "Performed 50000.0 iterations\n",
      "196875.93584393762 iterations per second\n",
      "Performed 60000.0 iterations\n",
      "16966.741286870863 iterations per second\n",
      "Performed 70000.0 iterations\n",
      "17005.945973341444 iterations per second\n",
      "3.632077805079265\n",
      "Performed 80000.0 iterations\n",
      "22064.252084484073 iterations per second\n",
      "Performed 90000.0 iterations\n",
      "13814.279583520107 iterations per second\n",
      "4.308685127630121\n",
      "Performed 100000.0 iterations\n",
      "96238.2607698044 iterations per second\n",
      "Performed 110000.0 iterations\n",
      "16483.85610958887 iterations per second\n",
      "Performed 120000.0 iterations\n",
      "15346.307841307114 iterations per second\n",
      "3.632077805079265\n",
      "Performed 130000.0 iterations\n",
      "21897.6481834466 iterations per second\n",
      "Performed 140000.0 iterations\n",
      "13517.568019636115 iterations per second\n",
      "3.907168188976036\n",
      "Performed 150000.0 iterations\n",
      "53534.966239932604 iterations per second\n",
      "Performed 160000.0 iterations\n",
      "13490.598596294632 iterations per second\n",
      "Performed 170000.0 iterations\n",
      "13284.595009167733 iterations per second\n",
      "3.7898540080661136\n",
      "Performed 180000.0 iterations\n",
      "17706.211331153918 iterations per second\n",
      "Performed 190000.0 iterations\n",
      "14593.060900563883 iterations per second\n",
      "4.47819496218452\n",
      "Performed 200000.0 iterations\n",
      "44651.178635416654 iterations per second\n",
      "Performed 210000.0 iterations\n",
      "15205.965352923946 iterations per second\n",
      "Performed 220000.0 iterations\n",
      "14149.090377932796 iterations per second\n",
      "3.7022100999583896\n",
      "Performed 230000.0 iterations\n",
      "16799.761279637274 iterations per second\n",
      "Performed 240000.0 iterations\n",
      "15535.155464374515 iterations per second\n",
      "3.7022100999583896\n",
      "Performed 250000.0 iterations\n",
      "33613.69967526743 iterations per second\n",
      "Performed 260000.0 iterations\n",
      "15598.406950568831 iterations per second\n",
      "Performed 270000.0 iterations\n",
      "15800.51059751663 iterations per second\n",
      "3.766430042433852\n",
      "Performed 280000.0 iterations\n",
      "15443.309415243953 iterations per second\n",
      "Performed 290000.0 iterations\n",
      "15630.896098969122 iterations per second\n",
      "4.301298978073348\n",
      "Performed 300000.0 iterations\n",
      "28542.09722255302 iterations per second\n",
      "Performed 310000.0 iterations\n",
      "15771.86674377801 iterations per second\n",
      "Performed 320000.0 iterations\n",
      "15190.985451900873 iterations per second\n",
      "3.766430042433852\n",
      "Performed 330000.0 iterations\n",
      "14014.503324778445 iterations per second\n",
      "Performed 340000.0 iterations\n",
      "15261.382259365022 iterations per second\n",
      "3.632077805079265\n",
      "Performed 350000.0 iterations\n",
      "22350.64414641009 iterations per second\n",
      "Performed 360000.0 iterations\n",
      "15032.771144619184 iterations per second\n",
      "3.632077805079265\n",
      "Performed 370000.0 iterations\n",
      "146444.560052233 iterations per second\n",
      "Performed 380000.0 iterations\n",
      "13691.403636021776 iterations per second\n",
      "Performed 390000.0 iterations\n",
      "15055.90994964138 iterations per second\n",
      "4.183428358362523\n",
      "Performed 400000.0 iterations\n",
      "21208.182104099647 iterations per second\n",
      "Performed 410000.0 iterations\n",
      "14225.246592072628 iterations per second\n",
      "4.29587812980559\n",
      "Performed 420000.0 iterations\n",
      "70097.13281056762 iterations per second\n",
      "Performed 430000.0 iterations\n",
      "14626.474790339415 iterations per second\n",
      "Performed 440000.0 iterations\n",
      "14940.534286646538 iterations per second\n",
      "3.7664300424338513\n",
      "Performed 450000.0 iterations\n",
      "14725.122876000562 iterations per second\n",
      "Performed 460000.0 iterations\n",
      "12948.33605566208 iterations per second\n",
      "3.93420788642938\n",
      "Performed 470000.0 iterations\n",
      "40741.17532782904 iterations per second\n",
      "Performed 480000.0 iterations\n",
      "11408.905917893384 iterations per second\n",
      "Performed 490000.0 iterations\n",
      "12638.813471986598 iterations per second\n",
      "3.9038250994606503\n",
      "3.9038250994606503\n"
     ]
    }
   ],
   "source": [
    "sol = anneal.batch_anneal(times=20)"
   ]
  },
  {
   "cell_type": "code",
   "execution_count": 6,
   "metadata": {},
   "outputs": [
    {
     "name": "stderr",
     "output_type": "stream",
     "text": [
      "[autoreload of algorithms.genetic failed: Traceback (most recent call last):\n",
      "  File \"/home/ciro/anaconda3/lib/python3.6/site-packages/IPython/extensions/autoreload.py\", line 247, in check\n",
      "    superreload(m, reload, self.old_objects)\n",
      "  File \"/home/ciro/Documents/Camlin/vehicle_routing/algorithms/genetic.py\", line 66\n",
      "    for i in range(N-1)\n",
      "                      ^\n",
      "SyntaxError: invalid syntax\n",
      "]\n"
     ]
    },
    {
     "data": {
      "text/plain": [
       "[<matplotlib.lines.Line2D at 0x7fd16ea6c2b0>]"
      ]
     },
     "execution_count": 6,
     "metadata": {},
     "output_type": "execute_result"
    },
    {
     "data": {
      "image/png": "[encoded data removed]",
      "text/plain": [
       "<matplotlib.figure.Figure at 0x7fd18af98588>"
      ]
     },
     "metadata": {},
     "output_type": "display_data"
    }
   ],
   "source": [
    "plt.plot(anneal.best_list)"
   ]
  },
  {
   "cell_type": "code",
   "execution_count": 7,
   "metadata": {},
   "outputs": [
    {
     "data": {
      "text/plain": [
       "[<matplotlib.lines.Line2D at 0x7fd16e9f3cc0>]"
      ]
     },
     "execution_count": 7,
     "metadata": {},
     "output_type": "execute_result"
    },
    {
     "data": {
      "image/png": "[encoded data removed]",
      "text/plain": [
       "<matplotlib.figure.Figure at 0x7fd16ea0de48>"
      ]
     },
     "metadata": {},
     "output_type": "display_data"
    }
   ],
   "source": [
    "plt.plot(anneal.fitness_list,'-o')"
   ]
  },
  {
   "cell_type": "code",
   "execution_count": 8,
   "metadata": {},
   "outputs": [],
   "source": [
    "tsp = TravelingSalesman(locations,edges)"
   ]
  },
  {
   "cell_type": "code",
   "execution_count": 9,
   "metadata": {},
   "outputs": [
    {
     "name": "stdout",
     "output_type": "stream",
     "text": [
      "Checked already 10000 nodes\n",
      "('l0', 'l19', 'l8', 'l17', 'l4', 'l10', 'l11', 'l1', 'l15', 'l16', 'l12', 'l14', 'l18', 'd0', 'l7', 'l3')\n",
      "Checked already 20000 nodes\n",
      "('l0', 'l9', 'l13', 'l19', 'l6', 'l3', 'l7')\n",
      "Checked already 30000 nodes\n",
      "('l0', 'l9', 'l13', 'l6', 'l3', 'l14', 'l12', 'l10', 'l11', 'l1')\n",
      "3.6320778050792653\n",
      "CPU times: user 26.8 s, sys: 84 ms, total: 26.9 s\n",
      "Wall time: 26.9 s\n"
     ]
    }
   ],
   "source": [
    "%%time\n",
    "tsp_sol = tsp.solve()"
   ]
  },
  {
   "cell_type": "code",
   "execution_count": 68,
   "metadata": {},
   "outputs": [
    {
     "data": {
      "text/plain": [
       "\u001b[0;31mInit signature:\u001b[0m \u001b[0mGenetic\u001b[0m\u001b[0;34m(\u001b[0m\u001b[0mlocations\u001b[0m\u001b[0;34m,\u001b[0m \u001b[0medges\u001b[0m\u001b[0;34m,\u001b[0m \u001b[0mpopulation_size\u001b[0m\u001b[0;34m=\u001b[0m\u001b[0;36m100\u001b[0m\u001b[0;34m,\u001b[0m \u001b[0mrandom_size\u001b[0m\u001b[0;34m=\u001b[0m\u001b[0;36m20\u001b[0m\u001b[0;34m,\u001b[0m \u001b[0melite_size\u001b[0m\u001b[0;34m=\u001b[0m\u001b[0;32mNone\u001b[0m\u001b[0;34m,\u001b[0m \u001b[0mluck_ratio\u001b[0m\u001b[0;34m=\u001b[0m\u001b[0;36m0.2\u001b[0m\u001b[0;34m,\u001b[0m \u001b[0mpower\u001b[0m\u001b[0;34m=\u001b[0m\u001b[0;36m1\u001b[0m\u001b[0;34m,\u001b[0m \u001b[0mcoeff\u001b[0m\u001b[0;34m=\u001b[0m\u001b[0;36m10\u001b[0m\u001b[0;34m,\u001b[0m \u001b[0mmutation_rate\u001b[0m\u001b[0;34m=\u001b[0m\u001b[0;36m0.005\u001b[0m\u001b[0;34m,\u001b[0m \u001b[0mgenerations\u001b[0m\u001b[0;34m=\u001b[0m\u001b[0;36m10\u001b[0m\u001b[0;34m,\u001b[0m \u001b[0mhybrid\u001b[0m\u001b[0;34m=\u001b[0m\u001b[0;32mFalse\u001b[0m\u001b[0;34m)\u001b[0m\u001b[0;34m\u001b[0m\u001b[0;34m\u001b[0m\u001b[0m\n",
       "\u001b[0;31mDocstring:\u001b[0m      <no docstring>\n",
       "\u001b[0;31mInit docstring:\u001b[0m\n",
       "Solver for TSP with genetic algorithm.\n",
       "Start from a population and breed the fittest individuals.\n",
       "Breeding and mutation strategies are fixed.\n",
       "The algo will work in the space of edges rather than vertices.\n",
       "A state in the initial population\n",
       "is going to be represented as a sequence of N consecutive edges.\n",
       "By mutating this property will be lost.\n",
       "Args:\n",
       "    locations(dict):{name:(x,y)}\n",
       "    edges(dict):{('from','to'):weight}\n",
       "    population_size(int): n of individuals in the population\n",
       "    random_size(int): n of indiduals that can reproduce\n",
       "    elite_size(int): fittest individuals that get cloned.\n",
       "        If None, 20% of random_size\n",
       "    luck_ratio[0,1]: 0.0 pure fitness, 1.0 pure random\n",
       "    mutation_rate[0,1]: p of mutation on single location\n",
       "    generations(int): how many generations\n",
       "    hybrid(bool): If True will start from a population obtained\n",
       "        muting the simulated annealing solution\n",
       "    power(int): not_visited_cost=(v-1)**power\n",
       "        with power>1 will penalize more\n",
       "        having \"hubs\" of locations visited too often\n",
       "    coeff(int): the fitness will be evaluated as\n",
       "        1/(route_length + coeff*not_visited_cost)\n",
       "\u001b[0;31mFile:\u001b[0m           ~/Documents/Camlin/vehicle_routing/algorithms/genetic.py\n",
       "\u001b[0;31mType:\u001b[0m           type\n"
      ]
     },
     "metadata": {},
     "output_type": "display_data"
    }
   ],
   "source": [
    "Genetic?"
   ]
  },
  {
   "cell_type": "code",
   "execution_count": 101,
   "metadata": {},
   "outputs": [],
   "source": [
    "gen = Genetic(locations,edges,population_size=2000,random_size=50,elite_size=10,generations=200)"
   ]
  },
  {
   "cell_type": "code",
   "execution_count": null,
   "metadata": {},
   "outputs": [
    {
     "name": "stdout",
     "output_type": "stream",
     "text": [
      "[3.9053363135985735, 4.105445347734479, 4.417876178250272, 4.472631307290232, 4.669473059168981]\n",
      "7.9272308305628245\n",
      "12.969354437319613\n",
      "12.969354437319613\n",
      "11.902325599992515\n",
      "11.902325599992515\n",
      "9.963978388645941\n"
     ]
    }
   ],
   "source": [
    "gen_sol = gen.solve()"
   ]
  },
  {
   "cell_type": "code",
   "execution_count": null,
   "metadata": {},
   "outputs": [],
   "source": []
  }
 ],
 "metadata": {
  "kernelspec": {
   "display_name": "Python 3",
   "language": "python",
   "name": "python3"
  },
  "language_info": {
   "codemirror_mode": {
    "name": "ipython",
    "version": 3
   },
   "file_extension": ".py",
   "mimetype": "text/x-python",
   "name": "python",
   "nbconvert_exporter": "python",
   "pygments_lexer": "ipython3",
   "version": "3.6.8"
  }
 },
 "nbformat": 4,
 "nbformat_minor": 2
}
