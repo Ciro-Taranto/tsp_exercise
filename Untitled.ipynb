{
 "cells": [
  {
   "cell_type": "code",
   "execution_count": 1,
   "metadata": {},
   "outputs": [],
   "source": [
    "%matplotlib inline\n",
    "%load_ext autoreload \n",
    "%autoreload 2\n",
    "from objects.graph import Graph\n",
    "from algorithms.simulated_anneling import SimAnneal\n",
    "from algorithms.search import TravelingSalesman\n",
    "from algorithms.genetic import Genetic\n",
    "from problems.map_generator import garbage_collection_points_layout,random_graph_layout"
   ]
  },
  {
   "cell_type": "code",
   "execution_count": 41,
   "metadata": {},
   "outputs": [
    {
     "name": "stdout",
     "output_type": "stream",
     "text": [
      "graph_edges = 105.0\n",
      "graph_edges = 105.0\n"
     ]
    }
   ],
   "source": [
    "locations,loads,edges = random_graph_layout(20,1,0.5)"
   ]
  },
  {
   "cell_type": "code",
   "execution_count": 42,
   "metadata": {},
   "outputs": [],
   "source": [
    "g = Graph(locations=locations,weights=edges)"
   ]
  },
  {
   "cell_type": "code",
   "execution_count": 43,
   "metadata": {},
   "outputs": [],
   "source": [
    "astar = TravelingSalesman(locations,edges)"
   ]
  },
  {
   "cell_type": "code",
   "execution_count": 44,
   "metadata": {},
   "outputs": [
    {
     "name": "stdout",
     "output_type": "stream",
     "text": [
      "Checked already 10000 nodes\n",
      "Checked already 20000 nodes\n",
      "Checked already 30000 nodes\n",
      "Checked already 40000 nodes\n",
      "Checked already 50000 nodes\n",
      "Checked already 60000 nodes\n",
      "Checked already 70000 nodes\n",
      "Checked already 80000 nodes\n",
      "Checked already 90000 nodes\n",
      "Checked already 100000 nodes\n",
      "Checked already 110000 nodes\n",
      "Checked already 120000 nodes\n",
      "Checked already 130000 nodes\n",
      "Checked already 140000 nodes\n",
      "Checked already 150000 nodes\n",
      "Checked already 160000 nodes\n",
      "Checked already 170000 nodes\n",
      "Checked already 180000 nodes\n",
      "Checked already 190000 nodes\n",
      "Checked already 200000 nodes\n",
      "4.617338396348682\n",
      "CPU times: user 2min 15s, sys: 280 ms, total: 2min 15s\n",
      "Wall time: 2min 15s\n"
     ]
    }
   ],
   "source": [
    "%%time\n",
    "astar_sol = astar.solve()"
   ]
  },
  {
   "cell_type": "code",
   "execution_count": 35,
   "metadata": {},
   "outputs": [
    {
     "data": {
      "text/plain": [
       "True"
      ]
     },
     "execution_count": 35,
     "metadata": {},
     "output_type": "execute_result"
    },
    {
     "data": {
      "image/png": "[encoded data removed]",
      "text/plain": [
       "<matplotlib.figure.Figure at 0x7f711bcda1d0>"
      ]
     },
     "metadata": {},
     "output_type": "display_data"
    }
   ],
   "source": [
    "astar_sol.render()"
   ]
  },
  {
   "cell_type": "code",
   "execution_count": 12,
   "metadata": {},
   "outputs": [
    {
     "data": {
      "text/plain": [
       "['l0', 'd0', 'l2', 'l1', 'l4', 'l8', 'l9', 'l7', 'l5', 'l3', 'l6']"
      ]
     },
     "execution_count": 12,
     "metadata": {},
     "output_type": "execute_result"
    }
   ],
   "source": [
    "astar_sol.adding_order"
   ]
  },
  {
   "cell_type": "code",
   "execution_count": 16,
   "metadata": {},
   "outputs": [
    {
     "data": {
      "text/plain": [
       "True"
      ]
     },
     "execution_count": 16,
     "metadata": {},
     "output_type": "execute_result"
    }
   ],
   "source": [
    "('l2','l1') in edges.keys()"
   ]
  },
  {
   "cell_type": "code",
   "execution_count": null,
   "metadata": {},
   "outputs": [],
   "source": []
  }
 ],
 "metadata": {
  "kernelspec": {
   "display_name": "Python 3",
   "language": "python",
   "name": "python3"
  },
  "language_info": {
   "codemirror_mode": {
    "name": "ipython",
    "version": 3
   },
   "file_extension": ".py",
   "mimetype": "text/x-python",
   "name": "python",
   "nbconvert_exporter": "python",
   "pygments_lexer": "ipython3",
   "version": "3.6.8"
  }
 },
 "nbformat": 4,
 "nbformat_minor": 2
}
